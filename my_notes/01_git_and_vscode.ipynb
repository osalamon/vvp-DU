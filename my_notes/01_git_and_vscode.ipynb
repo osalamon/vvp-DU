{
 "cells": [
  {
   "cell_type": "markdown",
   "metadata": {},
   "source": [
    "# Anything (**IMHO**) noticed by me as worth written down while I was going through the course materials\n"
   ]
  },
  {
   "cell_type": "markdown",
   "metadata": {
    "vscode": {
     "languageId": "plaintext"
    }
   },
   "source": [
    "## Git\n",
    "\n",
    "\n",
    "### **`git merge`**, or how to perform correct merge via command line?\n",
    "\n",
    "Command `git merge my_new_feature_xyz` **is always** run on branch (typically `main`) **to which I want to merge** `my_new_feature_xyz` branch, **not otherwise**!\n",
    "\n",
    "**Example worklflow:**\n",
    "\n",
    "1. I start on branch `main`, thinking about implementing a new super duper feature \"hyperspace gravitational portals\" into my project. Because I am a responsible developer, following a good practices, I decide not to commit a lot of new code for hyperspace portals straight into `main` but rather I will create a new separate branch `hyperspace portals`.\n",
    "2. To do so, I execute `git branch hyperspace_portals` which creates the new branch, followed by command `git checkout/switch hyperspace_portals` which switches myself to the branch `hyperspace_portals`, so any code additions or changes happens there, leaving `main` intact.\n",
    "3. After weeks and weeks of working, after tons and tons of new lines of code, after uncountable amount of commits, all regarding that awesome new feature, the hyperspace portals (allowing space-time travel in a instant), I am finally ready to merge it into `main` project's branch.\n",
    "4. How to proceed? Switch myself back to the `main` branch by `git checkout main`. **And after that (double-checking I am on the `main` branch...), I can finally start merging \"from\" `hyperspace_portals` into the `main` by executing command `git merge hyperspace_portals`.**\n",
    "\n",
    "\n",
    "### **`git remote add origin remote_repo_url`** - how to add remote repo for your local repository? \n",
    "\n",
    "Forget every fucking time: how to add remote repo? Let's say I already have some repo online in GitHub, but the repo is only there, no local copies exist. What to do when I want to make my local repo \"interconnected\" with remote repo in GitHub?\n",
    "\n",
    "1. Create a new repository on GitHub. Then click green button \"Code\" and copy the URL of the repository.\n",
    "2. Ideally, you already created and have a initialized local repository on your machine (`git init`, added Readme.MD, etc). If not, do so.\n",
    "3. To connect the local repo with the remote repository on GitHub, issue the following command: `git remote add origin remote_repo_url`. \n",
    "`\n"
   ]
  },
  {
   "cell_type": "markdown",
   "metadata": {},
   "source": [
    "## Tips on important extensions for VSCode\n",
    "\n",
    "- **Pylance:** Rozšíření pro vylepšenou podporu jazyka Python, včetně rychlého napovídání, analýzy kódu a dalších vylepšení.\n",
    "- **flake8:** Rozšíření pro kontrolu kódu proti pravidlům PEP8 a identifikaci chyb v Pythonu.\n",
    "- **autopep8:** Automatické formátování kódu podle konvencí PEP8, což usnadňuje psaní čistého a standardizovaného kódu.\n"
   ]
  },
  {
   "cell_type": "markdown",
   "metadata": {},
   "source": [
    "## Nastroje Pythonu - co je do prcic co???\n",
    "\n",
    "- **[IPython](http://ipython.org)** - pokročilá interaktivní konzole, která zlepšuje standardní interakci s Python interpreterem. \n",
    "- **[Jupyter](https://jupyter.org/)** - umožňuje vytvářet notebooky kombinující spustitelný kód, text a vizualizace.\n",
    "- **[Sphinx](http://sphinx-doc.org)** - generuje rozmanité typy dokumentace na základě komentářů v kódu.\n",
    "- **[virtualenv](http://www.virtualenv.org/)** - nástroj pro vytváření izolovaných Python prostředí, které umožňují správu závislostí per individuální projekt/repo.\n"
   ]
  },
  {
   "cell_type": "markdown",
   "metadata": {},
   "source": [
    "## Python in general is/has:\n",
    "\n",
    "* **Dynamic type language** - developer does not declar type of variable, the types are inferred by the interpreter \"on the fly\" during the runtime.\n",
    "* **Strongly typed language** - the type of variable cannot be changed once it is assigned.\n",
    "* **Interpreted language** - running code is executed line by line by the interpreter, not compiled into a binary. Translated code, into its bytecode, is executed by the Python Virtual Machine.\n",
    "* **Auto memory management** - thanks to garbage collector Python takes care of memory management instead of a developer.\n",
    "* **Vast number of available modules** - standard as well as third-party libraries.\n",
    "* **OSS**"
   ]
  },
  {
   "cell_type": "markdown",
   "metadata": {},
   "source": [
    "## Keyboard shortcuts for using the Jupyter notebooks in VSCode\n",
    "\n",
    "**Enter related (press both keys together)**\n",
    "* **Ctrl + Enter** - run cell\n",
    "* **Shift + Enter** - run cell and selects cell below\n",
    "* **Alt + Enter** - run cell and insert cell below\n",
    "\n",
    "**Escs + something (press in sequence)**\n",
    "* **Esc, a** - insert cell right above currently selected cell\n",
    "* **Esc, b** - insert cell right below currently selected cell\n",
    "* **Esc, d, d** - delete currently selected cell\n",
    "* **Esc, m** - change cell to markdown\n",
    "* **Esc, y** - change cell to code\n",
    "* **Esc, l** - toggle line numbers\n",
    "* **Esc, o** - shows or hides output of the cell\n",
    "* **Esc, s** - save notebook\n",
    "* **Esc, x** - cut cell\n",
    "* **Esc, c** - copy cell\n",
    "* **Esc, v** - paste cell below\n",
    "* **Esc, z** - undo cell operation\n",
    "* **Esc, shift + z** - redo cell operation\n",
    "* **Esc, h** - shows keyboard shortcuts\n",
    "* **Esc, i, i** - interrupt kernel\n",
    "* **Esc, 0, 0** - restart kernel\n",
    "* **Esc, 1** - change cell to heading 1\n",
    "* **Esc, 2** - change cell to heading 2\n",
    "* **Esc, 3** - -\"\"-, etc\n",
    "* **Esc, shift + m** - merge selected cells\n",
    "* **Esc, shift + -** - split cell at cursor\n",
    "\n"
   ]
  },
  {
   "cell_type": "markdown",
   "metadata": {},
   "source": []
  }
 ],
 "metadata": {
  "kernelspec": {
   "display_name": "Python 3",
   "language": "python",
   "name": "python3"
  },
  "language_info": {
   "codemirror_mode": {
    "name": "ipython",
    "version": 3
   },
   "file_extension": ".py",
   "mimetype": "text/x-python",
   "name": "python",
   "nbconvert_exporter": "python",
   "pygments_lexer": "ipython3",
   "version": "3.12.3"
  }
 },
 "nbformat": 4,
 "nbformat_minor": 2
}
