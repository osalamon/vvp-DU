{
 "cells": [
  {
   "cell_type": "markdown",
   "metadata": {},
   "source": [
    "# Basic functions, assignment, import/export, indentation, etc etc"
   ]
  },
  {
   "cell_type": "markdown",
   "metadata": {},
   "source": [
    "## **`print`** function and Python as dynamic strongly typed language:"
   ]
  },
  {
   "cell_type": "code",
   "execution_count": null,
   "metadata": {},
   "outputs": [
    {
     "name": "stdout",
     "output_type": "stream",
     "text": [
      "4.140000000000001\n"
     ]
    },
    {
     "ename": "TypeError",
     "evalue": "unsupported operand type(s) for +: 'float' and 'str'",
     "output_type": "error",
     "traceback": [
      "\u001b[0;31m---------------------------------------------------------------------------\u001b[0m",
      "\u001b[0;31mTypeError\u001b[0m                                 Traceback (most recent call last)",
      "Cell \u001b[0;32mIn[3], line 8\u001b[0m\n\u001b[1;32m      6\u001b[0m \u001b[38;5;28mprint\u001b[39m(a \u001b[38;5;241m+\u001b[39m c) \n\u001b[1;32m      7\u001b[0m \u001b[38;5;66;03m# OK, some types can be mixed, Python makes conversion automatically\u001b[39;00m\n\u001b[0;32m----> 8\u001b[0m \u001b[38;5;28mprint\u001b[39m(\u001b[43mc\u001b[49m\u001b[43m \u001b[49m\u001b[38;5;241;43m+\u001b[39;49m\u001b[43m \u001b[49m\u001b[43mb\u001b[49m)\n\u001b[1;32m      9\u001b[0m \u001b[38;5;66;03m# TypeError: unsupported operand type(s) for +: 'float' and 'str'\u001b[39;00m\n\u001b[1;32m     10\u001b[0m \u001b[38;5;66;03m# Wrong, some cannot be mixed\u001b[39;00m\n",
      "\u001b[0;31mTypeError\u001b[0m: unsupported operand type(s) for +: 'float' and 'str'"
     ]
    }
   ],
   "source": [
    "a = 1\n",
    "b = \"chacha\"\n",
    "c = 3.14\n",
    "# a, b, c variables are automatically assigned to the types of int, str, float\n",
    "\n",
    "print(a + c) \n",
    "# OK, some types can be mixed, Python makes conversion automatically\n",
    "print(c + b)\n",
    "# TypeError: unsupported operand type(s) for +: 'float' and 'str'\n",
    "\n"
   ]
  },
  {
   "cell_type": "code",
   "execution_count": null,
   "metadata": {},
   "outputs": [
    {
     "name": "stdout",
     "output_type": "stream",
     "text": [
      "3\n",
      "dict_items([('add', <function add at 0x7e6f45d7dbc0>), ('one', 1), ('two', 2)])\n"
     ]
    }
   ],
   "source": [
    "## only chaotical try outs\n",
    "\n",
    "def add(a, b):\n",
    "    return a + b\n",
    "\n",
    "bla = {\"add\": add,'one': 1, 'two': 2}\n",
    "print(bla[\"add\"](1, 2))\n",
    "\n",
    "print(bla.items())\n"
   ]
  },
  {
   "cell_type": "markdown",
   "metadata": {},
   "source": [
    "# CHECK OUT https://docs.python.org/3/library/stdtypes.html#mapping-types-dict"
   ]
  }
 ],
 "metadata": {
  "kernelspec": {
   "display_name": "Python 3",
   "language": "python",
   "name": "python3"
  },
  "language_info": {
   "codemirror_mode": {
    "name": "ipython",
    "version": 3
   },
   "file_extension": ".py",
   "mimetype": "text/x-python",
   "name": "python",
   "nbconvert_exporter": "python",
   "pygments_lexer": "ipython3",
   "version": "3.12.3"
  }
 },
 "nbformat": 4,
 "nbformat_minor": 2
}
