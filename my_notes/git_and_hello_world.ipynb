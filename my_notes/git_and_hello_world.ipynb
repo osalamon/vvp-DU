{
 "cells": [
  {
   "cell_type": "markdown",
   "metadata": {},
   "source": [
    "# Anything worth written down when going through the materials of the course (= making mistakes all the time, new things like shortcuts, etc.)\n"
   ]
  },
  {
   "cell_type": "markdown",
   "metadata": {
    "vscode": {
     "languageId": "plaintext"
    }
   },
   "source": [
    "## GIT\n",
    "\n",
    "### `git merge`\n",
    "\n",
    "- Command `git merge my_new_feature_xyz` **is always** run on branch (typically `main`) **to which I want to merge** `my_new_feature_xyz` branch, **not otherwise**!\n",
    "- Example worklflow:\n",
    "  1. I start on branch `main`, thinking about implementing a new super duper feature \"hyperspace gravitational portals\" into my project. Because I am a responsible developer, following a good practices, I decide not to commit a lot of new code for hyperspace portals straight into `main` but rather I will create a new separate branch `hyperspace portals`.\n",
    "  2. To do so, I execute `git branch hyperspace_portals` which creates the new branch, followed by command `git checkout/switch hyperspace_portals` which switches myself to the branch `hyperspace_portals`, so any code additions or changes happens there, leaving `main` intact.\n",
    "  3. After weeks and weeks of working, after tons and tons of new lines of code, after uncountable amount of commits, all regarding that awesome new feature, the hyperspace portals (allowing space-time travel in a instant), I am finally ready to merge it into `main` project's branch.\n",
    "  4. How to proceed? Switch myself back to the `main` branch by `git checkout main`. **And after that (double-checking I am on the `main` branch...), I can finally start merging \"from\" `hyperspace_portals` into the `main` by executing command `git merge hyperspace_portals`.**\n"
   ]
  },
  {
   "cell_type": "markdown",
   "metadata": {},
   "source": [
    "## Tipy na dalsi extensions ve VSCode\n",
    "\n",
    "- Nabízí integrova- Nabízí integrované nástroje pro formátování kódu, jako jsou [autopep8](https://pypi.python.org/pypi/autopep8) a [black](https://black.readthedocs.io/en/stable/).\n",
    "- Možnosti pro linting kódu s nástroji jako [bandit](https://pypi.python.org/pypi/bandit) a [flake8](https://pypi.python.org/pypi/flake8) pro identifikaci potenciálních chyb a problémů.né nástroje pro formátování kódu, jako jsou [autopep8](https://pypi.python.org/pypi/autopep8) a [black](https://black.readthedocs.io/en/stable/).\n"
   ]
  },
  {
   "cell_type": "markdown",
   "metadata": {},
   "source": [
    "## Nastroje Pythonu - co je do prcic co???\n",
    "\n",
    "- **[IPython](http://ipython.org)** - pokročilá interaktivní konzole, která zlepšuje standardní interakci s Python interpreterem.\n",
    "- **[Jupyter](https://jupyter.org/)** - umožňuje vytvářet notebooky kombinující spustitelný kód, text a vizualizace.\n",
    "- **[Sphinx](http://sphinx-doc.org)** - nástroj pro generování rozmanitých typů dokumentace z komentářů ve zdrojovém kódu.\n",
    "- **[pip](http://www.pip-installer.org/)** - standardní správce balíčků pro Python, který usnadňuje instalaci a správu knihoven.\n",
    "- **[virtualenv](http://www.virtualenv.org/)** - nástroj pro vytváření izolovaných Python prostředí, které umožňují správu závislostí pro jednotlivé projekty bez vzájemného ovlivňování.\n"
   ]
  },
  {
   "cell_type": "markdown",
   "metadata": {},
   "source": []
  }
 ],
 "metadata": {
  "kernelspec": {
   "display_name": "Python 3",
   "language": "python",
   "name": "python3"
  },
  "language_info": {
   "codemirror_mode": {
    "name": "ipython",
    "version": 3
   },
   "file_extension": ".py",
   "mimetype": "text/x-python",
   "name": "python",
   "nbconvert_exporter": "python",
   "pygments_lexer": "ipython3",
   "version": "3.12.3"
  }
 },
 "nbformat": 4,
 "nbformat_minor": 2
}
